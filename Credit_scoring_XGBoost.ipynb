{
  "nbformat": 4,
  "nbformat_minor": 0,
  "metadata": {
    "colab": {
      "name": "Credit scoring XGBoost.ipynb",
      "provenance": [],
      "collapsed_sections": []
    },
    "kernelspec": {
      "name": "python3",
      "display_name": "Python 3"
    },
    "language_info": {
      "name": "python"
    }
  },
  "cells": [
    {
      "cell_type": "markdown",
      "source": [
        "## Importing packages ##"
      ],
      "metadata": {
        "id": "xGoQzwAAdEvE"
      }
    },
    {
      "cell_type": "code",
      "execution_count": null,
      "metadata": {
        "id": "gaCU_AEsdCoI"
      },
      "outputs": [],
      "source": [
        "import xgboost \n",
        "import pandas as pd \n",
        "import numpy as np\n",
        "from sklearn.model_selection import train_test_split # split data into two sets (train and test)\n",
        "from sklearn.model_selection import GridSearchCV \n",
        "from sklearn.metrics import balanced_accuracy_score , roc_auc_score , make_scorer # ROC\n",
        "import matplotlib.pyplot as plt\n",
        "from sklearn.metrics import confusion_matrix # confusion matrix\n",
        "from sklearn.metrics import plot_confusion_matrix # the drawing of confusion matrix\n",
        "from sklearn.metrics import accuracy_score # accuracy score"
      ]
    },
    {
      "cell_type": "markdown",
      "source": [
        "## Importing Data ##"
      ],
      "metadata": {
        "id": "uLht-MWHdUmt"
      }
    },
    {
      "cell_type": "code",
      "source": [
        "from google.colab import drive\n",
        "drive.mount('/content/drive')"
      ],
      "metadata": {
        "id": "eFaZTkaadX39",
        "colab": {
          "base_uri": "https://localhost:8080/"
        },
        "outputId": "97cb8273-ff28-4aef-873f-964fd6df0bf2"
      },
      "execution_count": null,
      "outputs": [
        {
          "output_type": "stream",
          "name": "stdout",
          "text": [
            "Mounted at /content/drive\n"
          ]
        }
      ]
    },
    {
      "cell_type": "code",
      "source": [
        "df=pd.read_csv('/content/drive/MyDrive/Data_set/final_dataset_smes.csv') \n",
        "df.drop('Unnamed: 0',axis=1, inplace=True)\n",
        "df\n",
        "df[\"status\"].value_counts()"
      ],
      "metadata": {
        "colab": {
          "base_uri": "https://localhost:8080/"
        },
        "id": "hsl8msGHdmKI",
        "outputId": "1e337460-1f09-4c0d-8aa7-30f6f63b940d"
      },
      "execution_count": null,
      "outputs": [
        {
          "output_type": "execute_result",
          "data": {
            "text/plain": [
              "0    13413\n",
              "1     1632\n",
              "Name: status, dtype: int64"
            ]
          },
          "metadata": {},
          "execution_count": 4
        }
      ]
    },
    {
      "cell_type": "markdown",
      "source": [
        "## Splitting data into two (Train and Test) ##"
      ],
      "metadata": {
        "id": "29Z2KzYHeOqN"
      }
    },
    {
      "cell_type": "code",
      "source": [
        "var_columns = [c for c in df.columns if c !='status']\n",
        "X= df.loc[:, var_columns] # the variables that we're gonna use to build our model\n",
        "y= df.loc[:, 'status'] # the result we wanna acheive\n",
        "\n",
        "X_train, X_test, y_train, y_test = train_test_split(X, y, test_size=0.2) #\"test_size=0.2\"=>the proportion of the dataset to include in the test split X/y_valid (test 20% train 80%)\n",
        "X_train.shape, X_test.shape, y_train.shape, y_test.shape"
      ],
      "metadata": {
        "colab": {
          "base_uri": "https://localhost:8080/"
        },
        "id": "xg_vn_f3eVpm",
        "outputId": "b24819a9-8d21-43aa-d417-c3e98f88069b"
      },
      "execution_count": null,
      "outputs": [
        {
          "output_type": "execute_result",
          "data": {
            "text/plain": [
              "((12036, 24), (3009, 24), (12036,), (3009,))"
            ]
          },
          "metadata": {},
          "execution_count": 5
        }
      ]
    },
    {
      "cell_type": "markdown",
      "source": [
        "## XGBoost Model ##\n",
        "We will now create the XGBoost Model"
      ],
      "metadata": {
        "id": "JEggmEMigsWf"
      }
    },
    {
      "cell_type": "code",
      "source": [
        "model_xgboost = xgboost.XGBClassifier() # without hyper parameters \n",
        "eval_set = [(X_test, y_test)] # the evaluation data set while the model is being trained\n",
        "model_xgboost.fit(X_train,\n",
        "                  y_train,\n",
        "                  early_stopping_rounds=10,#if the model doesn't change on the validation dataset for 10 iteration then the training will stop \n",
        "                  eval_set=eval_set,\n",
        "                  verbose=True)"
      ],
      "metadata": {
        "colab": {
          "base_uri": "https://localhost:8080/"
        },
        "id": "31ifIvMqg7Gt",
        "outputId": "b4d442e7-cadb-4f9a-c198-eb106a46696c"
      },
      "execution_count": null,
      "outputs": [
        {
          "output_type": "stream",
          "name": "stdout",
          "text": [
            "[0]\tvalidation_0-error:0.084746\n",
            "Will train until validation_0-error hasn't improved in 10 rounds.\n",
            "[1]\tvalidation_0-error:0.083416\n",
            "[2]\tvalidation_0-error:0.082752\n",
            "[3]\tvalidation_0-error:0.081422\n",
            "[4]\tvalidation_0-error:0.081755\n",
            "[5]\tvalidation_0-error:0.082087\n",
            "[6]\tvalidation_0-error:0.082087\n",
            "[7]\tvalidation_0-error:0.080758\n",
            "[8]\tvalidation_0-error:0.081422\n",
            "[9]\tvalidation_0-error:0.082087\n",
            "[10]\tvalidation_0-error:0.081422\n",
            "[11]\tvalidation_0-error:0.081422\n",
            "[12]\tvalidation_0-error:0.081422\n",
            "[13]\tvalidation_0-error:0.080758\n",
            "[14]\tvalidation_0-error:0.080758\n",
            "[15]\tvalidation_0-error:0.08109\n",
            "[16]\tvalidation_0-error:0.080758\n",
            "[17]\tvalidation_0-error:0.080425\n",
            "[18]\tvalidation_0-error:0.080093\n",
            "[19]\tvalidation_0-error:0.079428\n",
            "[20]\tvalidation_0-error:0.080093\n",
            "[21]\tvalidation_0-error:0.079428\n",
            "[22]\tvalidation_0-error:0.079096\n",
            "[23]\tvalidation_0-error:0.079096\n",
            "[24]\tvalidation_0-error:0.079428\n",
            "[25]\tvalidation_0-error:0.080093\n",
            "[26]\tvalidation_0-error:0.08109\n",
            "[27]\tvalidation_0-error:0.080758\n",
            "[28]\tvalidation_0-error:0.08109\n",
            "[29]\tvalidation_0-error:0.08109\n",
            "[30]\tvalidation_0-error:0.081422\n",
            "[31]\tvalidation_0-error:0.081755\n",
            "[32]\tvalidation_0-error:0.081755\n",
            "Stopping. Best iteration:\n",
            "[22]\tvalidation_0-error:0.079096\n",
            "\n"
          ]
        },
        {
          "output_type": "execute_result",
          "data": {
            "text/plain": [
              "XGBClassifier()"
            ]
          },
          "metadata": {},
          "execution_count": 6
        }
      ]
    },
    {
      "cell_type": "markdown",
      "source": [
        "Now we will evaluate the model using the auc\n",
        "\n"
      ],
      "metadata": {
        "id": "kiKOCm3jh50u"
      }
    },
    {
      "cell_type": "code",
      "source": [
        "#to evaluate our model we will use \"predict_proba()\" function \n",
        "#this function has two output one is the prob that we have a \"0\" and the second that we have a \"1\" as a result\n",
        "y_train_pred = model_xgboost.predict_proba(X_train)[:,1]\n",
        "y_test_pred = model_xgboost.predict_proba(X_test)[:,1]\n",
        "\n",
        "#\"roc_auc_score\" function will give us the area under curve metric \n",
        "print(\"AUC Train: {:.4f}\\nAUC Test: {:.4f}\".format(roc_auc_score(y_train, y_train_pred),\n",
        "                                                    roc_auc_score(y_test, y_test_pred)))\n",
        "print(y_test_pred) "
      ],
      "metadata": {
        "colab": {
          "base_uri": "https://localhost:8080/"
        },
        "id": "ECVx8x57h9Gz",
        "outputId": "de45ae6e-9107-44ac-b193-a52c1ef73639"
      },
      "execution_count": null,
      "outputs": [
        {
          "output_type": "stream",
          "name": "stdout",
          "text": [
            "AUC Train: 0.8607\n",
            "AUC Test: 0.8564\n",
            "[0.1036206  0.7988956  0.07356198 ... 0.3548842  0.17921285 0.10035802]\n"
          ]
        }
      ]
    },
    {
      "cell_type": "markdown",
      "source": [
        "Now we will evaluate the model using the accuracy score"
      ],
      "metadata": {
        "id": "ay5KiS2yU2n4"
      }
    },
    {
      "cell_type": "code",
      "source": [
        "\n",
        "for i in range(0, X_test.shape[0]): \n",
        "    if y_test_pred[i]>=.5:       # setting threshold to .5 \n",
        "       y_test_pred[i]=1 \n",
        "    else: \n",
        "       y_test_pred[i]=0  \n",
        "\n",
        "print('the accuracy of XGBoost is',accuracy_score(y_test_pred, y_test))    "
      ],
      "metadata": {
        "colab": {
          "base_uri": "https://localhost:8080/"
        },
        "id": "QpQtD1YjU7Fv",
        "outputId": "ef0d0fba-5141-48f3-9ebd-efab73871c7f"
      },
      "execution_count": null,
      "outputs": [
        {
          "output_type": "stream",
          "name": "stdout",
          "text": [
            "the accuracy of XGBoost is 0.9209039548022598\n"
          ]
        }
      ]
    },
    {
      "cell_type": "markdown",
      "source": [
        "Now we will draw the confusion matrix for our first model "
      ],
      "metadata": {
        "id": "F06uP1sTi7d_"
      }
    },
    {
      "cell_type": "code",
      "source": [
        "plot_confusion_matrix(model_xgboost,# our model\n",
        "                      X_test,# test data set\n",
        "                      y_test,\n",
        "                     display_labels=[\"did not default(N)\",\"defaulted(P)\"])#set labels "
      ],
      "metadata": {
        "colab": {
          "base_uri": "https://localhost:8080/",
          "height": 354
        },
        "id": "7cN96rwGjCgu",
        "outputId": "63e1d144-7242-4b88-83d2-93c1a0cb4a63"
      },
      "execution_count": null,
      "outputs": [
        {
          "output_type": "stream",
          "name": "stderr",
          "text": [
            "/usr/local/lib/python3.7/dist-packages/sklearn/utils/deprecation.py:87: FutureWarning: Function plot_confusion_matrix is deprecated; Function `plot_confusion_matrix` is deprecated in 1.0 and will be removed in 1.2. Use one of the class methods: ConfusionMatrixDisplay.from_predictions or ConfusionMatrixDisplay.from_estimator.\n",
            "  warnings.warn(msg, category=FutureWarning)\n"
          ]
        },
        {
          "output_type": "execute_result",
          "data": {
            "text/plain": [
              "<sklearn.metrics._plot.confusion_matrix.ConfusionMatrixDisplay at 0x7f24cfd185d0>"
            ]
          },
          "metadata": {},
          "execution_count": 30
        },
        {
          "output_type": "display_data",
          "data": {
            "text/plain": [
              "<Figure size 432x288 with 2 Axes>"
            ],
            "image/png": "[encoded data removed]"
          },
          "metadata": {
            "needs_background": "light"
          }
        }
      ]
    },
    {
      "cell_type": "markdown",
      "source": [
        "here we are able to classify our results from the confusion matrix into 4 classes:\\\n",
        "-TP(TruePositives) : \"2623\" => companies predicted to default, which do\\\n",
        "-FP(FalsePositive) : \"41\"  => companies predicted to default, that do not\\\n",
        "-TN(True Negative) : \"211\"  => companies predicted not to default, which do not\\\n",
        "-FN(False Negative) : \"134\" => companies predicted not to default, which do"
      ],
      "metadata": {
        "id": "OE8tztofnaxK"
      }
    },
    {
      "cell_type": "markdown",
      "source": [
        "## Improoving the model ##\n",
        "we can see the created model is not bad for beginnig but we can try improving it with changing the hyper params of XGBoost's model \\\n",
        "let's see what we can do\n"
      ],
      "metadata": {
        "id": "ZqnHgv_Xpi8F"
      }
    },
    {
      "cell_type": "markdown",
      "source": [
        "we will now try to find the best combination of hyper params to have the best model for us "
      ],
      "metadata": {
        "id": "F3wZbAPYqADF"
      }
    },
    {
      "cell_type": "code",
      "source": [
        "learning_rate_list = [0.02, 0.05, 0.1] #Step size shrinkage used in update to prevents overfitting\n",
        "max_depth_list = [2, 3, 5]#Maximum depth of a tree\n",
        "n_estimators_list = [100, 200, 300]#Maximum number of trees will be created\n",
        "\n",
        "#we must store them in a dict because GridSearchCV only accept dict\n",
        "params_dict = {\"learning_rate\": learning_rate_list,\n",
        "               \"max_depth\": max_depth_list,\n",
        "               \"n_estimators\": n_estimators_list}\n",
        "\n",
        "num_combinations = 1\n",
        "for v in params_dict.values(): num_combinations *= len(v) # number of all combination that we can have \n",
        "\n",
        "print(' number of all possible combinations is : '+ str(num_combinations))\n",
        "params_dict"
      ],
      "metadata": {
        "colab": {
          "base_uri": "https://localhost:8080/"
        },
        "id": "xsFHu0uRrXo3",
        "outputId": "5f663bfc-d8ec-4652-9e91-427107cfa4c0"
      },
      "execution_count": null,
      "outputs": [
        {
          "output_type": "stream",
          "name": "stdout",
          "text": [
            " number of all possible combinations is : 27\n"
          ]
        },
        {
          "output_type": "execute_result",
          "data": {
            "text/plain": [
              "{'learning_rate': [0.02, 0.05, 0.1],\n",
              " 'max_depth': [2, 3, 5],\n",
              " 'n_estimators': [100, 200, 300]}"
            ]
          },
          "metadata": {},
          "execution_count": 32
        }
      ]
    },
    {
      "cell_type": "code",
      "source": [
        "#\"roc_auc_score(...)\" is a function in which it calculates the area under curve auc we will use it to have the best model between 27 of them\n",
        "def my_roc_auc_score(model, X, y): return roc_auc_score(y, model.predict_proba(X)[:,1])\n",
        "\n",
        "model_xgboost_hp = GridSearchCV(estimator=xgboost.XGBClassifier(subsample=0.5, # this is an estimator for GridSearchCV in which contains the usual params of XGBoost\n",
        "                                                                colsample_bytree=0.25,#the number of columns to be randomly samples for each tree.\n",
        "                                                                eval_metric='auc', #The metric to be used for validation data , we will use \"auc\": Area under the curve\n",
        "                                                                use_label_encoder=False),\n",
        "                                param_grid=params_dict, # the params that will be changed each time\n",
        "                                cv=2, #the data will be splited in two parts one for the validation and the other for training for the first part but vice-versa in the second part(generally the value of this is 3 or 4) \n",
        "                                scoring=my_roc_auc_score, # this is a special method done by us because the input is not suitable for the roc_auc_score (it evaluates or model)\n",
        "                                return_train_score=True,#shows the training score\n",
        "                                verbose=4)#logs\n",
        "\n",
        "model_xgboost_hp.fit(X, y)"
      ],
      "metadata": {
        "colab": {
          "base_uri": "https://localhost:8080/"
        },
        "id": "H53NkrO7rfa9",
        "outputId": "1868706b-61cb-4d90-b5ec-400bee67c836"
      },
      "execution_count": null,
      "outputs": [
        {
          "output_type": "stream",
          "name": "stdout",
          "text": [
            "Fitting 2 folds for each of 27 candidates, totalling 54 fits\n",
            "[CV 1/2] END learning_rate=0.02, max_depth=2, n_estimators=100;, score=(train=0.831, test=0.873) total time=   0.5s\n",
            "[CV 2/2] END learning_rate=0.02, max_depth=2, n_estimators=100;, score=(train=0.892, test=0.827) total time=   0.4s\n",
            "[CV 1/2] END learning_rate=0.02, max_depth=2, n_estimators=200;, score=(train=0.845, test=0.884) total time=   0.9s\n",
            "[CV 2/2] END learning_rate=0.02, max_depth=2, n_estimators=200;, score=(train=0.908, test=0.832) total time=   0.9s\n",
            "[CV 1/2] END learning_rate=0.02, max_depth=2, n_estimators=300;, score=(train=0.859, test=0.890) total time=   2.3s\n",
            "[CV 2/2] END learning_rate=0.02, max_depth=2, n_estimators=300;, score=(train=0.918, test=0.833) total time=   2.1s\n",
            "[CV 1/2] END learning_rate=0.02, max_depth=3, n_estimators=100;, score=(train=0.844, test=0.879) total time=   0.9s\n",
            "[CV 2/2] END learning_rate=0.02, max_depth=3, n_estimators=100;, score=(train=0.906, test=0.832) total time=   0.8s\n",
            "[CV 1/2] END learning_rate=0.02, max_depth=3, n_estimators=200;, score=(train=0.862, test=0.887) total time=   1.9s\n",
            "[CV 2/2] END learning_rate=0.02, max_depth=3, n_estimators=200;, score=(train=0.923, test=0.836) total time=   2.6s\n",
            "[CV 1/2] END learning_rate=0.02, max_depth=3, n_estimators=300;, score=(train=0.880, test=0.894) total time=   5.4s\n",
            "[CV 2/2] END learning_rate=0.02, max_depth=3, n_estimators=300;, score=(train=0.935, test=0.838) total time=   3.0s\n",
            "[CV 1/2] END learning_rate=0.02, max_depth=5, n_estimators=100;, score=(train=0.878, test=0.885) total time=   1.8s\n",
            "[CV 2/2] END learning_rate=0.02, max_depth=5, n_estimators=100;, score=(train=0.931, test=0.835) total time=   1.3s\n",
            "[CV 1/2] END learning_rate=0.02, max_depth=5, n_estimators=200;, score=(train=0.907, test=0.891) total time=   2.8s\n",
            "[CV 2/2] END learning_rate=0.02, max_depth=5, n_estimators=200;, score=(train=0.951, test=0.838) total time=   2.3s\n",
            "[CV 1/2] END learning_rate=0.02, max_depth=5, n_estimators=300;, score=(train=0.929, test=0.894) total time=   2.2s\n",
            "[CV 2/2] END learning_rate=0.02, max_depth=5, n_estimators=300;, score=(train=0.965, test=0.840) total time=   2.1s\n",
            "[CV 1/2] END learning_rate=0.05, max_depth=2, n_estimators=100;, score=(train=0.853, test=0.886) total time=   0.4s\n",
            "[CV 2/2] END learning_rate=0.05, max_depth=2, n_estimators=100;, score=(train=0.909, test=0.829) total time=   0.4s\n",
            "[CV 1/2] END learning_rate=0.05, max_depth=2, n_estimators=200;, score=(train=0.874, test=0.896) total time=   0.8s\n",
            "[CV 2/2] END learning_rate=0.05, max_depth=2, n_estimators=200;, score=(train=0.928, test=0.833) total time=   0.7s\n",
            "[CV 1/2] END learning_rate=0.05, max_depth=2, n_estimators=300;, score=(train=0.885, test=0.894) total time=   1.1s\n",
            "[CV 2/2] END learning_rate=0.05, max_depth=2, n_estimators=300;, score=(train=0.937, test=0.835) total time=   1.1s\n",
            "[CV 1/2] END learning_rate=0.05, max_depth=3, n_estimators=100;, score=(train=0.872, test=0.889) total time=   0.5s\n",
            "[CV 2/2] END learning_rate=0.05, max_depth=3, n_estimators=100;, score=(train=0.926, test=0.835) total time=   0.5s\n",
            "[CV 1/2] END learning_rate=0.05, max_depth=3, n_estimators=200;, score=(train=0.901, test=0.895) total time=   1.0s\n",
            "[CV 2/2] END learning_rate=0.05, max_depth=3, n_estimators=200;, score=(train=0.947, test=0.837) total time=   0.9s\n",
            "[CV 1/2] END learning_rate=0.05, max_depth=3, n_estimators=300;, score=(train=0.916, test=0.894) total time=   1.4s\n",
            "[CV 2/2] END learning_rate=0.05, max_depth=3, n_estimators=300;, score=(train=0.958, test=0.838) total time=   1.4s\n",
            "[CV 1/2] END learning_rate=0.05, max_depth=5, n_estimators=100;, score=(train=0.919, test=0.888) total time=   0.7s\n",
            "[CV 2/2] END learning_rate=0.05, max_depth=5, n_estimators=100;, score=(train=0.957, test=0.836) total time=   0.7s\n",
            "[CV 1/2] END learning_rate=0.05, max_depth=5, n_estimators=200;, score=(train=0.959, test=0.892) total time=   1.4s\n",
            "[CV 2/2] END learning_rate=0.05, max_depth=5, n_estimators=200;, score=(train=0.980, test=0.839) total time=   1.5s\n",
            "[CV 1/2] END learning_rate=0.05, max_depth=5, n_estimators=300;, score=(train=0.978, test=0.887) total time=   2.1s\n",
            "[CV 2/2] END learning_rate=0.05, max_depth=5, n_estimators=300;, score=(train=0.991, test=0.835) total time=   2.1s\n",
            "[CV 1/2] END learning_rate=0.1, max_depth=2, n_estimators=100;, score=(train=0.875, test=0.894) total time=   0.4s\n",
            "[CV 2/2] END learning_rate=0.1, max_depth=2, n_estimators=100;, score=(train=0.927, test=0.834) total time=   0.4s\n",
            "[CV 1/2] END learning_rate=0.1, max_depth=2, n_estimators=200;, score=(train=0.895, test=0.893) total time=   0.8s\n",
            "[CV 2/2] END learning_rate=0.1, max_depth=2, n_estimators=200;, score=(train=0.944, test=0.836) total time=   0.7s\n",
            "[CV 1/2] END learning_rate=0.1, max_depth=2, n_estimators=300;, score=(train=0.908, test=0.885) total time=   1.1s\n",
            "[CV 2/2] END learning_rate=0.1, max_depth=2, n_estimators=300;, score=(train=0.953, test=0.836) total time=   1.1s\n",
            "[CV 1/2] END learning_rate=0.1, max_depth=3, n_estimators=100;, score=(train=0.899, test=0.900) total time=   0.5s\n",
            "[CV 2/2] END learning_rate=0.1, max_depth=3, n_estimators=100;, score=(train=0.947, test=0.834) total time=   0.5s\n",
            "[CV 1/2] END learning_rate=0.1, max_depth=3, n_estimators=200;, score=(train=0.928, test=0.897) total time=   1.0s\n",
            "[CV 2/2] END learning_rate=0.1, max_depth=3, n_estimators=200;, score=(train=0.967, test=0.836) total time=   1.0s\n",
            "[CV 1/2] END learning_rate=0.1, max_depth=3, n_estimators=300;, score=(train=0.948, test=0.888) total time=   1.4s\n",
            "[CV 2/2] END learning_rate=0.1, max_depth=3, n_estimators=300;, score=(train=0.979, test=0.834) total time=   1.4s\n",
            "[CV 1/2] END learning_rate=0.1, max_depth=5, n_estimators=100;, score=(train=0.955, test=0.885) total time=   0.8s\n",
            "[CV 2/2] END learning_rate=0.1, max_depth=5, n_estimators=100;, score=(train=0.980, test=0.834) total time=   0.7s\n",
            "[CV 1/2] END learning_rate=0.1, max_depth=5, n_estimators=200;, score=(train=0.988, test=0.874) total time=   1.4s\n",
            "[CV 2/2] END learning_rate=0.1, max_depth=5, n_estimators=200;, score=(train=0.996, test=0.831) total time=   1.4s\n",
            "[CV 1/2] END learning_rate=0.1, max_depth=5, n_estimators=300;, score=(train=0.997, test=0.868) total time=   2.1s\n",
            "[CV 2/2] END learning_rate=0.1, max_depth=5, n_estimators=300;, score=(train=0.999, test=0.828) total time=   2.1s\n"
          ]
        },
        {
          "output_type": "execute_result",
          "data": {
            "text/plain": [
              "GridSearchCV(cv=2,\n",
              "             estimator=XGBClassifier(colsample_bytree=0.25, eval_metric='auc',\n",
              "                                     subsample=0.5, use_label_encoder=False),\n",
              "             param_grid={'learning_rate': [0.02, 0.05, 0.1],\n",
              "                         'max_depth': [2, 3, 5],\n",
              "                         'n_estimators': [100, 200, 300]},\n",
              "             return_train_score=True,\n",
              "             scoring=<function my_roc_auc_score at 0x7f24cf8f5680>, verbose=4)"
            ]
          },
          "metadata": {},
          "execution_count": 48
        }
      ]
    },
    {
      "cell_type": "markdown",
      "source": [
        "after generating 27 XGBoost models we need now to identify the best one of them by ranking by the auc "
      ],
      "metadata": {
        "id": "fie5Q8kVvhKC"
      }
    },
    {
      "cell_type": "code",
      "source": [
        "df_cv_results = pd.DataFrame(model_xgboost_hp.cv_results_) #framing the obtained GridSearchCV result \n",
        "df_cv_results = df_cv_results[['rank_test_score','mean_test_score','mean_train_score',\n",
        "                               'param_learning_rate', 'param_max_depth', 'param_n_estimators']]\n",
        "df_cv_results.sort_values(by='rank_test_score', inplace=True)#sort the result by \"rank_test_score\"\n",
        "df_cv_results\n",
        "#we can see the best set of parmas for us is: \n",
        "#- param_learning_rate=0.1\n",
        "#- param_max_depth=3\n",
        "#- param_n_estimators=100"
      ],
      "metadata": {
        "colab": {
          "base_uri": "https://localhost:8080/",
          "height": 896
        },
        "id": "uoZD8F27ubU7",
        "outputId": "4f1e3e1b-04e7-4801-be49-e454aef61d8c"
      },
      "execution_count": null,
      "outputs": [
        {
          "output_type": "execute_result",
          "data": {
            "text/plain": [
              "    rank_test_score  mean_test_score  mean_train_score param_learning_rate  \\\n",
              "21                1         0.867375          0.923363                 0.1   \n",
              "8                 2         0.866755          0.947308                0.02   \n",
              "22                3         0.866529          0.947673                 0.1   \n",
              "13                4         0.866314          0.923843                0.05   \n",
              "5                 5         0.866023          0.907339                0.02   \n",
              "14                6         0.865868          0.937060                0.05   \n",
              "16                7         0.865167          0.969899                0.05   \n",
              "10                8         0.864526          0.901265                0.05   \n",
              "7                 9         0.864517          0.928897                0.02   \n",
              "19               10         0.864385          0.919362                 0.1   \n",
              "11               11         0.864056          0.911478                0.05   \n",
              "18               12         0.863681          0.900932                 0.1   \n",
              "12               13         0.861887          0.898868                0.05   \n",
              "15               14         0.861746          0.938189                0.05   \n",
              "2                15         0.861696          0.888624                0.02   \n",
              "4                16         0.861589          0.892587                0.02   \n",
              "17               17         0.861099          0.984384                0.05   \n",
              "23               18         0.860843          0.963263                 0.1   \n",
              "20               19         0.860622          0.930846                 0.1   \n",
              "6                20         0.860164          0.904601                0.02   \n",
              "24               21         0.859530          0.967399                 0.1   \n",
              "1                22         0.857766          0.876287                0.02   \n",
              "9                23         0.857564          0.881128                0.05   \n",
              "3                24         0.855502          0.874825                0.02   \n",
              "25               25         0.852409          0.991752                 0.1   \n",
              "0                26         0.849761          0.861776                0.02   \n",
              "26               27         0.847919          0.997932                 0.1   \n",
              "\n",
              "   param_max_depth param_n_estimators  \n",
              "21               3                100  \n",
              "8                5                300  \n",
              "22               3                200  \n",
              "13               3                200  \n",
              "5                3                300  \n",
              "14               3                300  \n",
              "16               5                200  \n",
              "10               2                200  \n",
              "7                5                200  \n",
              "19               2                200  \n",
              "11               2                300  \n",
              "18               2                100  \n",
              "12               3                100  \n",
              "15               5                100  \n",
              "2                2                300  \n",
              "4                3                200  \n",
              "17               5                300  \n",
              "23               3                300  \n",
              "20               2                300  \n",
              "6                5                100  \n",
              "24               5                100  \n",
              "1                2                200  \n",
              "9                2                100  \n",
              "3                3                100  \n",
              "25               5                200  \n",
              "0                2                100  \n",
              "26               5                300  "
            ],
            "text/html": [
              "\n",
              "  <div id=\"df-583c228c-677d-43aa-8ea1-4bfe440584f3\">\n",
              "    <div class=\"colab-df-container\">\n",
              "      <div>\n",
              "<style scoped>\n",
              "    .dataframe tbody tr th:only-of-type {\n",
              "        vertical-align: middle;\n",
              "    }\n",
              "\n",
              "    .dataframe tbody tr th {\n",
              "        vertical-align: top;\n",
              "    }\n",
              "\n",
              "    .dataframe thead th {\n",
              "        text-align: right;\n",
              "    }\n",
              "</style>\n",
              "<table border=\"1\" class=\"dataframe\">\n",
              "  <thead>\n",
              "    <tr style=\"text-align: right;\">\n",
              "      <th></th>\n",
              "      <th>rank_test_score</th>\n",
              "      <th>mean_test_score</th>\n",
              "      <th>mean_train_score</th>\n",
              "      <th>param_learning_rate</th>\n",
              "      <th>param_max_depth</th>\n",
              "      <th>param_n_estimators</th>\n",
              "    </tr>\n",
              "  </thead>\n",
              "  <tbody>\n",
              "    <tr>\n",
              "      <th>21</th>\n",
              "      <td>1</td>\n",
              "      <td>0.867375</td>\n",
              "      <td>0.923363</td>\n",
              "      <td>0.1</td>\n",
              "      <td>3</td>\n",
              "      <td>100</td>\n",
              "    </tr>\n",
              "    <tr>\n",
              "      <th>8</th>\n",
              "      <td>2</td>\n",
              "      <td>0.866755</td>\n",
              "      <td>0.947308</td>\n",
              "      <td>0.02</td>\n",
              "      <td>5</td>\n",
              "      <td>300</td>\n",
              "    </tr>\n",
              "    <tr>\n",
              "      <th>22</th>\n",
              "      <td>3</td>\n",
              "      <td>0.866529</td>\n",
              "      <td>0.947673</td>\n",
              "      <td>0.1</td>\n",
              "      <td>3</td>\n",
              "      <td>200</td>\n",
              "    </tr>\n",
              "    <tr>\n",
              "      <th>13</th>\n",
              "      <td>4</td>\n",
              "      <td>0.866314</td>\n",
              "      <td>0.923843</td>\n",
              "      <td>0.05</td>\n",
              "      <td>3</td>\n",
              "      <td>200</td>\n",
              "    </tr>\n",
              "    <tr>\n",
              "      <th>5</th>\n",
              "      <td>5</td>\n",
              "      <td>0.866023</td>\n",
              "      <td>0.907339</td>\n",
              "      <td>0.02</td>\n",
              "      <td>3</td>\n",
              "      <td>300</td>\n",
              "    </tr>\n",
              "    <tr>\n",
              "      <th>14</th>\n",
              "      <td>6</td>\n",
              "      <td>0.865868</td>\n",
              "      <td>0.937060</td>\n",
              "      <td>0.05</td>\n",
              "      <td>3</td>\n",
              "      <td>300</td>\n",
              "    </tr>\n",
              "    <tr>\n",
              "      <th>16</th>\n",
              "      <td>7</td>\n",
              "      <td>0.865167</td>\n",
              "      <td>0.969899</td>\n",
              "      <td>0.05</td>\n",
              "      <td>5</td>\n",
              "      <td>200</td>\n",
              "    </tr>\n",
              "    <tr>\n",
              "      <th>10</th>\n",
              "      <td>8</td>\n",
              "      <td>0.864526</td>\n",
              "      <td>0.901265</td>\n",
              "      <td>0.05</td>\n",
              "      <td>2</td>\n",
              "      <td>200</td>\n",
              "    </tr>\n",
              "    <tr>\n",
              "      <th>7</th>\n",
              "      <td>9</td>\n",
              "      <td>0.864517</td>\n",
              "      <td>0.928897</td>\n",
              "      <td>0.02</td>\n",
              "      <td>5</td>\n",
              "      <td>200</td>\n",
              "    </tr>\n",
              "    <tr>\n",
              "      <th>19</th>\n",
              "      <td>10</td>\n",
              "      <td>0.864385</td>\n",
              "      <td>0.919362</td>\n",
              "      <td>0.1</td>\n",
              "      <td>2</td>\n",
              "      <td>200</td>\n",
              "    </tr>\n",
              "    <tr>\n",
              "      <th>11</th>\n",
              "      <td>11</td>\n",
              "      <td>0.864056</td>\n",
              "      <td>0.911478</td>\n",
              "      <td>0.05</td>\n",
              "      <td>2</td>\n",
              "      <td>300</td>\n",
              "    </tr>\n",
              "    <tr>\n",
              "      <th>18</th>\n",
              "      <td>12</td>\n",
              "      <td>0.863681</td>\n",
              "      <td>0.900932</td>\n",
              "      <td>0.1</td>\n",
              "      <td>2</td>\n",
              "      <td>100</td>\n",
              "    </tr>\n",
              "    <tr>\n",
              "      <th>12</th>\n",
              "      <td>13</td>\n",
              "      <td>0.861887</td>\n",
              "      <td>0.898868</td>\n",
              "      <td>0.05</td>\n",
              "      <td>3</td>\n",
              "      <td>100</td>\n",
              "    </tr>\n",
              "    <tr>\n",
              "      <th>15</th>\n",
              "      <td>14</td>\n",
              "      <td>0.861746</td>\n",
              "      <td>0.938189</td>\n",
              "      <td>0.05</td>\n",
              "      <td>5</td>\n",
              "      <td>100</td>\n",
              "    </tr>\n",
              "    <tr>\n",
              "      <th>2</th>\n",
              "      <td>15</td>\n",
              "      <td>0.861696</td>\n",
              "      <td>0.888624</td>\n",
              "      <td>0.02</td>\n",
              "      <td>2</td>\n",
              "      <td>300</td>\n",
              "    </tr>\n",
              "    <tr>\n",
              "      <th>4</th>\n",
              "      <td>16</td>\n",
              "      <td>0.861589</td>\n",
              "      <td>0.892587</td>\n",
              "      <td>0.02</td>\n",
              "      <td>3</td>\n",
              "      <td>200</td>\n",
              "    </tr>\n",
              "    <tr>\n",
              "      <th>17</th>\n",
              "      <td>17</td>\n",
              "      <td>0.861099</td>\n",
              "      <td>0.984384</td>\n",
              "      <td>0.05</td>\n",
              "      <td>5</td>\n",
              "      <td>300</td>\n",
              "    </tr>\n",
              "    <tr>\n",
              "      <th>23</th>\n",
              "      <td>18</td>\n",
              "      <td>0.860843</td>\n",
              "      <td>0.963263</td>\n",
              "      <td>0.1</td>\n",
              "      <td>3</td>\n",
              "      <td>300</td>\n",
              "    </tr>\n",
              "    <tr>\n",
              "      <th>20</th>\n",
              "      <td>19</td>\n",
              "      <td>0.860622</td>\n",
              "      <td>0.930846</td>\n",
              "      <td>0.1</td>\n",
              "      <td>2</td>\n",
              "      <td>300</td>\n",
              "    </tr>\n",
              "    <tr>\n",
              "      <th>6</th>\n",
              "      <td>20</td>\n",
              "      <td>0.860164</td>\n",
              "      <td>0.904601</td>\n",
              "      <td>0.02</td>\n",
              "      <td>5</td>\n",
              "      <td>100</td>\n",
              "    </tr>\n",
              "    <tr>\n",
              "      <th>24</th>\n",
              "      <td>21</td>\n",
              "      <td>0.859530</td>\n",
              "      <td>0.967399</td>\n",
              "      <td>0.1</td>\n",
              "      <td>5</td>\n",
              "      <td>100</td>\n",
              "    </tr>\n",
              "    <tr>\n",
              "      <th>1</th>\n",
              "      <td>22</td>\n",
              "      <td>0.857766</td>\n",
              "      <td>0.876287</td>\n",
              "      <td>0.02</td>\n",
              "      <td>2</td>\n",
              "      <td>200</td>\n",
              "    </tr>\n",
              "    <tr>\n",
              "      <th>9</th>\n",
              "      <td>23</td>\n",
              "      <td>0.857564</td>\n",
              "      <td>0.881128</td>\n",
              "      <td>0.05</td>\n",
              "      <td>2</td>\n",
              "      <td>100</td>\n",
              "    </tr>\n",
              "    <tr>\n",
              "      <th>3</th>\n",
              "      <td>24</td>\n",
              "      <td>0.855502</td>\n",
              "      <td>0.874825</td>\n",
              "      <td>0.02</td>\n",
              "      <td>3</td>\n",
              "      <td>100</td>\n",
              "    </tr>\n",
              "    <tr>\n",
              "      <th>25</th>\n",
              "      <td>25</td>\n",
              "      <td>0.852409</td>\n",
              "      <td>0.991752</td>\n",
              "      <td>0.1</td>\n",
              "      <td>5</td>\n",
              "      <td>200</td>\n",
              "    </tr>\n",
              "    <tr>\n",
              "      <th>0</th>\n",
              "      <td>26</td>\n",
              "      <td>0.849761</td>\n",
              "      <td>0.861776</td>\n",
              "      <td>0.02</td>\n",
              "      <td>2</td>\n",
              "      <td>100</td>\n",
              "    </tr>\n",
              "    <tr>\n",
              "      <th>26</th>\n",
              "      <td>27</td>\n",
              "      <td>0.847919</td>\n",
              "      <td>0.997932</td>\n",
              "      <td>0.1</td>\n",
              "      <td>5</td>\n",
              "      <td>300</td>\n",
              "    </tr>\n",
              "  </tbody>\n",
              "</table>\n",
              "</div>\n",
              "      <button class=\"colab-df-convert\" onclick=\"convertToInteractive('df-583c228c-677d-43aa-8ea1-4bfe440584f3')\"\n",
              "              title=\"Convert this dataframe to an interactive table.\"\n",
              "              style=\"display:none;\">\n",
              "        \n",
              "  <svg xmlns=\"http://www.w3.org/2000/svg\" height=\"24px\"viewBox=\"0 0 24 24\"\n",
              "       width=\"24px\">\n",
              "    <path d=\"M0 0h24v24H0V0z\" fill=\"none\"/>\n",
              "    <path d=\"M18.56 5.44l.94 2.06.94-2.06 2.06-.94-2.06-.94-.94-2.06-.94 2.06-2.06.94zm-11 1L8.5 8.5l.94-2.06 2.06-.94-2.06-.94L8.5 2.5l-.94 2.06-2.06.94zm10 10l.94 2.06.94-2.06 2.06-.94-2.06-.94-.94-2.06-.94 2.06-2.06.94z\"/><path d=\"M17.41 7.96l-1.37-1.37c-.4-.4-.92-.59-1.43-.59-.52 0-1.04.2-1.43.59L10.3 9.45l-7.72 7.72c-.78.78-.78 2.05 0 2.83L4 21.41c.39.39.9.59 1.41.59.51 0 1.02-.2 1.41-.59l7.78-7.78 2.81-2.81c.8-.78.8-2.07 0-2.86zM5.41 20L4 18.59l7.72-7.72 1.47 1.35L5.41 20z\"/>\n",
              "  </svg>\n",
              "      </button>\n",
              "      \n",
              "  <style>\n",
              "    .colab-df-container {\n",
              "      display:flex;\n",
              "      flex-wrap:wrap;\n",
              "      gap: 12px;\n",
              "    }\n",
              "\n",
              "    .colab-df-convert {\n",
              "      background-color: #E8F0FE;\n",
              "      border: none;\n",
              "      border-radius: 50%;\n",
              "      cursor: pointer;\n",
              "      display: none;\n",
              "      fill: #1967D2;\n",
              "      height: 32px;\n",
              "      padding: 0 0 0 0;\n",
              "      width: 32px;\n",
              "    }\n",
              "\n",
              "    .colab-df-convert:hover {\n",
              "      background-color: #E2EBFA;\n",
              "      box-shadow: 0px 1px 2px rgba(60, 64, 67, 0.3), 0px 1px 3px 1px rgba(60, 64, 67, 0.15);\n",
              "      fill: #174EA6;\n",
              "    }\n",
              "\n",
              "    [theme=dark] .colab-df-convert {\n",
              "      background-color: #3B4455;\n",
              "      fill: #D2E3FC;\n",
              "    }\n",
              "\n",
              "    [theme=dark] .colab-df-convert:hover {\n",
              "      background-color: #434B5C;\n",
              "      box-shadow: 0px 1px 3px 1px rgba(0, 0, 0, 0.15);\n",
              "      filter: drop-shadow(0px 1px 2px rgba(0, 0, 0, 0.3));\n",
              "      fill: #FFFFFF;\n",
              "    }\n",
              "  </style>\n",
              "\n",
              "      <script>\n",
              "        const buttonEl =\n",
              "          document.querySelector('#df-583c228c-677d-43aa-8ea1-4bfe440584f3 button.colab-df-convert');\n",
              "        buttonEl.style.display =\n",
              "          google.colab.kernel.accessAllowed ? 'block' : 'none';\n",
              "\n",
              "        async function convertToInteractive(key) {\n",
              "          const element = document.querySelector('#df-583c228c-677d-43aa-8ea1-4bfe440584f3');\n",
              "          const dataTable =\n",
              "            await google.colab.kernel.invokeFunction('convertToInteractive',\n",
              "                                                     [key], {});\n",
              "          if (!dataTable) return;\n",
              "\n",
              "          const docLinkHtml = 'Like what you see? Visit the ' +\n",
              "            '<a target=\"_blank\" href=https://colab.research.google.com/notebooks/data_table.ipynb>data table notebook</a>'\n",
              "            + ' to learn more about interactive tables.';\n",
              "          element.innerHTML = '';\n",
              "          dataTable['output_type'] = 'display_data';\n",
              "          await google.colab.output.renderOutput(dataTable, element);\n",
              "          const docLink = document.createElement('div');\n",
              "          docLink.innerHTML = docLinkHtml;\n",
              "          element.appendChild(docLink);\n",
              "        }\n",
              "      </script>\n",
              "    </div>\n",
              "  </div>\n",
              "  "
            ]
          },
          "metadata": {},
          "execution_count": 49
        }
      ]
    },
    {
      "cell_type": "markdown",
      "source": [
        "now we will try the best XGB model "
      ],
      "metadata": {
        "id": "2quQXX70vw7r"
      }
    },
    {
      "cell_type": "code",
      "source": [
        "#know we will put the best combination of params in the XGBoost training model\n",
        "model_xgboost_fin = xgboost.XGBClassifier(learning_rate=0.1,\n",
        "                                          max_depth=3,\n",
        "                                          n_estimators=100,\n",
        "                                          subsample=0.5,\n",
        "                                          colsample_bytree=0.25,\n",
        "                                          eval_metric='auc',\n",
        "                                          verbosity=1,\n",
        "                                          use_label_encoder=False)\n",
        "\n",
        "# Passing both training and validation dataset as we want to plot AUC for both\n",
        "eval_set = [(X_train, y_train),(X_test, y_test)]\n",
        "\n",
        "model_xgboost_fin.fit(X_train,\n",
        "                  y_train,\n",
        "                  early_stopping_rounds=20,\n",
        "                  eval_set=eval_set,\n",
        "                  verbose=True)"
      ],
      "metadata": {
        "colab": {
          "base_uri": "https://localhost:8080/"
        },
        "id": "FOvKPrVQv2-0",
        "outputId": "35b4a55e-6b01-4c4a-b488-39a0a8f46ed9"
      },
      "execution_count": null,
      "outputs": [
        {
          "output_type": "stream",
          "name": "stdout",
          "text": [
            "[0]\tvalidation_0-auc:0.765697\tvalidation_1-auc:0.779799\n",
            "Multiple eval metrics have been passed: 'validation_1-auc' will be used for early stopping.\n",
            "\n",
            "Will train until validation_1-auc hasn't improved in 20 rounds.\n",
            "[1]\tvalidation_0-auc:0.81079\tvalidation_1-auc:0.835909\n",
            "[2]\tvalidation_0-auc:0.820454\tvalidation_1-auc:0.843155\n",
            "[3]\tvalidation_0-auc:0.823432\tvalidation_1-auc:0.846652\n",
            "[4]\tvalidation_0-auc:0.827951\tvalidation_1-auc:0.849715\n",
            "[5]\tvalidation_0-auc:0.829119\tvalidation_1-auc:0.851681\n",
            "[6]\tvalidation_0-auc:0.830511\tvalidation_1-auc:0.852529\n",
            "[7]\tvalidation_0-auc:0.830888\tvalidation_1-auc:0.852537\n",
            "[8]\tvalidation_0-auc:0.835045\tvalidation_1-auc:0.857184\n",
            "[9]\tvalidation_0-auc:0.837922\tvalidation_1-auc:0.85722\n",
            "[10]\tvalidation_0-auc:0.841244\tvalidation_1-auc:0.855834\n",
            "[11]\tvalidation_0-auc:0.841295\tvalidation_1-auc:0.8581\n",
            "[12]\tvalidation_0-auc:0.843819\tvalidation_1-auc:0.86066\n",
            "[13]\tvalidation_0-auc:0.846117\tvalidation_1-auc:0.85991\n",
            "[14]\tvalidation_0-auc:0.846961\tvalidation_1-auc:0.861738\n",
            "[15]\tvalidation_0-auc:0.847724\tvalidation_1-auc:0.85913\n",
            "[16]\tvalidation_0-auc:0.850427\tvalidation_1-auc:0.860433\n",
            "[17]\tvalidation_0-auc:0.849702\tvalidation_1-auc:0.860802\n",
            "[18]\tvalidation_0-auc:0.851326\tvalidation_1-auc:0.862586\n",
            "[19]\tvalidation_0-auc:0.851683\tvalidation_1-auc:0.8637\n",
            "[20]\tvalidation_0-auc:0.852971\tvalidation_1-auc:0.865762\n",
            "[21]\tvalidation_0-auc:0.853231\tvalidation_1-auc:0.865992\n",
            "[22]\tvalidation_0-auc:0.853527\tvalidation_1-auc:0.86606\n",
            "[23]\tvalidation_0-auc:0.854249\tvalidation_1-auc:0.866406\n",
            "[24]\tvalidation_0-auc:0.855378\tvalidation_1-auc:0.865399\n",
            "[25]\tvalidation_0-auc:0.857191\tvalidation_1-auc:0.866359\n",
            "[26]\tvalidation_0-auc:0.857693\tvalidation_1-auc:0.866636\n",
            "[27]\tvalidation_0-auc:0.858017\tvalidation_1-auc:0.866598\n",
            "[28]\tvalidation_0-auc:0.857995\tvalidation_1-auc:0.865494\n",
            "[29]\tvalidation_0-auc:0.859302\tvalidation_1-auc:0.867026\n",
            "[30]\tvalidation_0-auc:0.860584\tvalidation_1-auc:0.867013\n",
            "[31]\tvalidation_0-auc:0.861497\tvalidation_1-auc:0.868889\n",
            "[32]\tvalidation_0-auc:0.862726\tvalidation_1-auc:0.869173\n",
            "[33]\tvalidation_0-auc:0.863552\tvalidation_1-auc:0.86862\n",
            "[34]\tvalidation_0-auc:0.864579\tvalidation_1-auc:0.86878\n",
            "[35]\tvalidation_0-auc:0.864553\tvalidation_1-auc:0.869206\n",
            "[36]\tvalidation_0-auc:0.864828\tvalidation_1-auc:0.869161\n",
            "[37]\tvalidation_0-auc:0.865653\tvalidation_1-auc:0.869485\n",
            "[38]\tvalidation_0-auc:0.866812\tvalidation_1-auc:0.869821\n",
            "[39]\tvalidation_0-auc:0.867535\tvalidation_1-auc:0.869656\n",
            "[40]\tvalidation_0-auc:0.869133\tvalidation_1-auc:0.869542\n",
            "[41]\tvalidation_0-auc:0.870374\tvalidation_1-auc:0.86864\n",
            "[42]\tvalidation_0-auc:0.870688\tvalidation_1-auc:0.868803\n",
            "[43]\tvalidation_0-auc:0.870925\tvalidation_1-auc:0.869213\n",
            "[44]\tvalidation_0-auc:0.872267\tvalidation_1-auc:0.870314\n",
            "[45]\tvalidation_0-auc:0.87301\tvalidation_1-auc:0.870523\n",
            "[46]\tvalidation_0-auc:0.874164\tvalidation_1-auc:0.871162\n",
            "[47]\tvalidation_0-auc:0.874885\tvalidation_1-auc:0.871508\n",
            "[48]\tvalidation_0-auc:0.875107\tvalidation_1-auc:0.871016\n",
            "[49]\tvalidation_0-auc:0.876378\tvalidation_1-auc:0.871556\n",
            "[50]\tvalidation_0-auc:0.876659\tvalidation_1-auc:0.871363\n",
            "[51]\tvalidation_0-auc:0.877001\tvalidation_1-auc:0.870959\n",
            "[52]\tvalidation_0-auc:0.878123\tvalidation_1-auc:0.871173\n",
            "[53]\tvalidation_0-auc:0.87832\tvalidation_1-auc:0.870884\n",
            "[54]\tvalidation_0-auc:0.880825\tvalidation_1-auc:0.871421\n",
            "[55]\tvalidation_0-auc:0.881407\tvalidation_1-auc:0.872345\n",
            "[56]\tvalidation_0-auc:0.881889\tvalidation_1-auc:0.87236\n",
            "[57]\tvalidation_0-auc:0.882731\tvalidation_1-auc:0.872622\n",
            "[58]\tvalidation_0-auc:0.883123\tvalidation_1-auc:0.872438\n",
            "[59]\tvalidation_0-auc:0.884222\tvalidation_1-auc:0.872424\n",
            "[60]\tvalidation_0-auc:0.884741\tvalidation_1-auc:0.873171\n",
            "[61]\tvalidation_0-auc:0.88536\tvalidation_1-auc:0.872505\n",
            "[62]\tvalidation_0-auc:0.886619\tvalidation_1-auc:0.871824\n",
            "[63]\tvalidation_0-auc:0.887131\tvalidation_1-auc:0.871469\n",
            "[64]\tvalidation_0-auc:0.887193\tvalidation_1-auc:0.871531\n",
            "[65]\tvalidation_0-auc:0.887285\tvalidation_1-auc:0.871595\n",
            "[66]\tvalidation_0-auc:0.88773\tvalidation_1-auc:0.871916\n",
            "[67]\tvalidation_0-auc:0.889027\tvalidation_1-auc:0.872207\n",
            "[68]\tvalidation_0-auc:0.889119\tvalidation_1-auc:0.872241\n",
            "[69]\tvalidation_0-auc:0.889618\tvalidation_1-auc:0.872302\n",
            "[70]\tvalidation_0-auc:0.890004\tvalidation_1-auc:0.872326\n",
            "[71]\tvalidation_0-auc:0.891318\tvalidation_1-auc:0.873224\n",
            "[72]\tvalidation_0-auc:0.89187\tvalidation_1-auc:0.873094\n",
            "[73]\tvalidation_0-auc:0.892013\tvalidation_1-auc:0.873425\n",
            "[74]\tvalidation_0-auc:0.892326\tvalidation_1-auc:0.873501\n",
            "[75]\tvalidation_0-auc:0.892519\tvalidation_1-auc:0.873864\n",
            "[76]\tvalidation_0-auc:0.893372\tvalidation_1-auc:0.873703\n",
            "[77]\tvalidation_0-auc:0.893851\tvalidation_1-auc:0.874973\n",
            "[78]\tvalidation_0-auc:0.894676\tvalidation_1-auc:0.875061\n",
            "[79]\tvalidation_0-auc:0.895028\tvalidation_1-auc:0.875211\n",
            "[80]\tvalidation_0-auc:0.895202\tvalidation_1-auc:0.875536\n",
            "[81]\tvalidation_0-auc:0.895412\tvalidation_1-auc:0.876111\n",
            "[82]\tvalidation_0-auc:0.895977\tvalidation_1-auc:0.875944\n",
            "[83]\tvalidation_0-auc:0.895985\tvalidation_1-auc:0.876058\n",
            "[84]\tvalidation_0-auc:0.89618\tvalidation_1-auc:0.875942\n",
            "[85]\tvalidation_0-auc:0.896522\tvalidation_1-auc:0.876242\n",
            "[86]\tvalidation_0-auc:0.896932\tvalidation_1-auc:0.876158\n",
            "[87]\tvalidation_0-auc:0.897688\tvalidation_1-auc:0.876273\n",
            "[88]\tvalidation_0-auc:0.897704\tvalidation_1-auc:0.87626\n",
            "[89]\tvalidation_0-auc:0.898034\tvalidation_1-auc:0.876735\n",
            "[90]\tvalidation_0-auc:0.898392\tvalidation_1-auc:0.877434\n",
            "[91]\tvalidation_0-auc:0.899353\tvalidation_1-auc:0.877684\n",
            "[92]\tvalidation_0-auc:0.899577\tvalidation_1-auc:0.877921\n",
            "[93]\tvalidation_0-auc:0.900193\tvalidation_1-auc:0.877691\n",
            "[94]\tvalidation_0-auc:0.900401\tvalidation_1-auc:0.878093\n",
            "[95]\tvalidation_0-auc:0.900485\tvalidation_1-auc:0.878038\n",
            "[96]\tvalidation_0-auc:0.900605\tvalidation_1-auc:0.877586\n",
            "[97]\tvalidation_0-auc:0.900459\tvalidation_1-auc:0.877524\n",
            "[98]\tvalidation_0-auc:0.900803\tvalidation_1-auc:0.877422\n",
            "[99]\tvalidation_0-auc:0.90094\tvalidation_1-auc:0.877435\n"
          ]
        },
        {
          "output_type": "execute_result",
          "data": {
            "text/plain": [
              "XGBClassifier(colsample_bytree=0.25, eval_metric='auc', subsample=0.5,\n",
              "              use_label_encoder=False)"
            ]
          },
          "metadata": {},
          "execution_count": 36
        }
      ]
    },
    {
      "cell_type": "code",
      "source": [
        "#now we will evaluate our model using AUC\n",
        "y_train_pred = model_xgboost_fin.predict_proba(X_train)[:,1]\n",
        "y_valid_pred = model_xgboost_fin.predict_proba(X_test)[:,1]\n",
        "\n",
        "print(\"AUC Train: {:.4f}\\nAUC Valid: {:.4f}\".format(roc_auc_score(y_train, y_train_pred),\n",
        "                                                    roc_auc_score(y_test, y_valid_pred)))"
      ],
      "metadata": {
        "colab": {
          "base_uri": "https://localhost:8080/"
        },
        "id": "MDPQIH2PwRH5",
        "outputId": "a6d5b4b8-15b2-4a3f-d246-c59e6edb9849"
      },
      "execution_count": null,
      "outputs": [
        {
          "output_type": "stream",
          "name": "stdout",
          "text": [
            "AUC Train: 0.9004\n",
            "AUC Valid: 0.8781\n"
          ]
        }
      ]
    },
    {
      "cell_type": "code",
      "source": [
        "#Now we will evaluate the model using the accuracy score\n",
        "for i in range(0, X_test.shape[0]): \n",
        "    if y_valid_pred[i]>=.5:       # setting threshold to .5 \n",
        "       y_valid_pred[i]=1 \n",
        "    else: \n",
        "       y_valid_pred[i]=0  \n",
        "\n",
        "print('the accuracy is',accuracy_score(y_valid_pred, y_test))    "
      ],
      "metadata": {
        "colab": {
          "base_uri": "https://localhost:8080/"
        },
        "id": "Ix5nG9T-WPCc",
        "outputId": "65cd609c-6bca-4dc1-a4bb-67cf6e6623d6"
      },
      "execution_count": null,
      "outputs": [
        {
          "output_type": "stream",
          "name": "stdout",
          "text": [
            "the accuracy is 0.9205716184778996\n"
          ]
        }
      ]
    },
    {
      "cell_type": "markdown",
      "source": [
        "## we can see a little improvement ##"
      ],
      "metadata": {
        "id": "XIupzvL0wguF"
      }
    },
    {
      "cell_type": "code",
      "source": [
        "plot_confusion_matrix(model_xgboost_fin,# our model\n",
        "                      X_test,# test data set\n",
        "                      y_test,\n",
        "                     display_labels=[\"did not default(N)\",\"defaulted(P)\"])#set labels "
      ],
      "metadata": {
        "colab": {
          "base_uri": "https://localhost:8080/",
          "height": 354
        },
        "id": "4kWL9MuXwqpQ",
        "outputId": "cb9fb863-d0a6-46ea-b80c-03619ee9c83d"
      },
      "execution_count": null,
      "outputs": [
        {
          "output_type": "stream",
          "name": "stderr",
          "text": [
            "/usr/local/lib/python3.7/dist-packages/sklearn/utils/deprecation.py:87: FutureWarning: Function plot_confusion_matrix is deprecated; Function `plot_confusion_matrix` is deprecated in 1.0 and will be removed in 1.2. Use one of the class methods: ConfusionMatrixDisplay.from_predictions or ConfusionMatrixDisplay.from_estimator.\n",
            "  warnings.warn(msg, category=FutureWarning)\n"
          ]
        },
        {
          "output_type": "execute_result",
          "data": {
            "text/plain": [
              "<sklearn.metrics._plot.confusion_matrix.ConfusionMatrixDisplay at 0x7f24d023ded0>"
            ]
          },
          "metadata": {},
          "execution_count": 41
        },
        {
          "output_type": "display_data",
          "data": {
            "text/plain": [
              "<Figure size 432x288 with 2 Axes>"
            ],
            "image/png": "[encoded data removed]"
          },
          "metadata": {
            "needs_background": "light"
          }
        }
      ]
    }
  ]
}